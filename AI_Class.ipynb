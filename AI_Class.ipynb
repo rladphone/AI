{
  "nbformat": 4,
  "nbformat_minor": 0,
  "metadata": {
    "colab": {
      "provenance": [],
      "authorship_tag": "ABX9TyPj/Uctr8kwWh1Tf8nMAzvo",
      "include_colab_link": true
    },
    "kernelspec": {
      "name": "python3",
      "display_name": "Python 3"
    },
    "language_info": {
      "name": "python"
    }
  },
  "cells": [
    {
      "cell_type": "markdown",
      "metadata": {
        "id": "view-in-github",
        "colab_type": "text"
      },
      "source": [
        "<a href=\"https://colab.research.google.com/github/rladphone/AI/blob/main/AI_Class.ipynb\" target=\"_parent\"><img src=\"https://colab.research.google.com/assets/colab-badge.svg\" alt=\"Open In Colab\"/></a>"
      ]
    },
    {
      "cell_type": "code",
      "execution_count": null,
      "metadata": {
        "colab": {
          "base_uri": "https://localhost:8080/"
        },
        "id": "vdi0ZPM_DU0G",
        "outputId": "2791a0e9-1e7a-4ebd-8c05-ec1c6f7a30d1"
      },
      "outputs": [
        {
          "name": "stdout",
          "output_type": "stream",
          "text": [
            "홍길동\n",
            "23\n"
          ]
        }
      ],
      "source": [
        "name = input()\n",
        "age = int(input())"
      ]
    },
    {
      "cell_type": "code",
      "source": [
        "print(('이름: {}, 나이: {}').format(name,age))"
      ],
      "metadata": {
        "colab": {
          "base_uri": "https://localhost:8080/"
        },
        "id": "w12j311hDdtG",
        "outputId": "86d4ab4c-854b-456d-a309-ddcd6905aa0c"
      },
      "execution_count": null,
      "outputs": [
        {
          "output_type": "stream",
          "name": "stdout",
          "text": [
            "이름: 홍길동, 나이: 23\n"
          ]
        }
      ]
    },
    {
      "cell_type": "code",
      "source": [
        "for i in range(1,10):\n",
        "  print((\"-----{}단-----\").format(i))\n",
        "  for j in range(1,10):\n",
        "    print(('{}X{}={}').format(i,j,i*j))"
      ],
      "metadata": {
        "id": "jqZIMBaDDtT1"
      },
      "execution_count": null,
      "outputs": []
    },
    {
      "cell_type": "code",
      "source": [
        "exam = [90,50,41,60,40,80,23]"
      ],
      "metadata": {
        "id": "GYEBjX0hEr0G"
      },
      "execution_count": null,
      "outputs": []
    },
    {
      "cell_type": "code",
      "source": [
        "for i in exam:\n",
        "  if i >= 90:\n",
        "    print(\"A\")\n",
        "  elif i >= 80 and i <90:\n",
        "    print(\"B\")\n",
        "  elif i >= 70 and i <80:\n",
        "    print('C')\n",
        "  elif i >= 60 and i <70:\n",
        "    print(\"D\")\n",
        "  else:\n",
        "    print(\"F\")"
      ],
      "metadata": {
        "id": "8y4AJIoDFlKn"
      },
      "execution_count": null,
      "outputs": []
    },
    {
      "cell_type": "code",
      "source": [
        "j = int(input())\n",
        "if j >= 10000:\n",
        "  print(\"구매가능\")\n",
        "else:\n",
        "  print(\"구매불가능\")"
      ],
      "metadata": {
        "colab": {
          "base_uri": "https://localhost:8080/"
        },
        "id": "EEm9E779Gb8_",
        "outputId": "2df1e374-d943-42da-8246-7c98e9be714c"
      },
      "execution_count": null,
      "outputs": [
        {
          "output_type": "stream",
          "name": "stdout",
          "text": [
            "822200\n",
            "구매가능\n"
          ]
        }
      ]
    },
    {
      "cell_type": "code",
      "source": [
        "class_1 = input()\n",
        "name_1 = input()\n",
        "age_1 = input()\n",
        "tall = int(input())"
      ],
      "metadata": {
        "colab": {
          "base_uri": "https://localhost:8080/"
        },
        "id": "nO3MXobqG4QH",
        "outputId": "2ad4bea0-c4ff-4c93-9d71-a4979e0d1830"
      },
      "execution_count": null,
      "outputs": [
        {
          "name": "stdout",
          "output_type": "stream",
          "text": [
            "소프트웨어\n",
            "김예주\n",
            "23\n",
            "160\n"
          ]
        }
      ]
    },
    {
      "cell_type": "code",
      "source": [
        "print(('저는 {}학과이고 이름은 {}(이)고 저의 나이는 {}이고 저의 키는 {}입니다.').format(class_1,name_1,age_1,tall))"
      ],
      "metadata": {
        "colab": {
          "base_uri": "https://localhost:8080/"
        },
        "id": "GAWhIoOwHgHz",
        "outputId": "4edfee19-36b9-4160-8fcd-4913658134b3"
      },
      "execution_count": null,
      "outputs": [
        {
          "output_type": "stream",
          "name": "stdout",
          "text": [
            "저는 소프트웨어학과이고 이름은 김예주(이)고 저의 나이는 23이고 저의 키는 160입니다.\n"
          ]
        }
      ]
    },
    {
      "cell_type": "code",
      "source": [
        "grades = [85,90,92,78,80,95]\n",
        "len(grades)"
      ],
      "metadata": {
        "colab": {
          "base_uri": "https://localhost:8080/"
        },
        "id": "bj1qvgg_IHyC",
        "outputId": "4a162331-a3fe-4569-82dc-1cf5db74e997"
      },
      "execution_count": null,
      "outputs": [
        {
          "output_type": "execute_result",
          "data": {
            "text/plain": [
              "6"
            ]
          },
          "metadata": {},
          "execution_count": 23
        }
      ]
    },
    {
      "cell_type": "code",
      "source": [
        "for i in range(len(grades)):\n",
        "  sum = 0\n",
        "  sum = sum + grades[i]\n",
        "  aver = sum/len(grades)\n",
        "\n",
        "if aver>85:\n",
        "  print(\"합격입니다.\")\n",
        "else:\n",
        "  print(\"불합격입니다.\")"
      ],
      "metadata": {
        "colab": {
          "base_uri": "https://localhost:8080/"
        },
        "id": "vKawyNkaJ5pJ",
        "outputId": "301dbbb9-8ee9-491b-9d9b-bf0047ef1781"
      },
      "execution_count": null,
      "outputs": [
        {
          "output_type": "stream",
          "name": "stdout",
          "text": [
            "불합격입니다.\n"
          ]
        }
      ]
    },
    {
      "cell_type": "code",
      "source": [
        "sum = 0\n",
        "count = 0\n",
        "\n",
        "for grade in grades:\n",
        "  sum = sum + grade\n",
        "  count = count + 1\n",
        "\n",
        "aver = sum/ count\n",
        "\n",
        "if aver > 85:\n",
        "  print('축하합니다. 시험에 합격하셨습니다.')"
      ],
      "metadata": {
        "colab": {
          "base_uri": "https://localhost:8080/"
        },
        "id": "B__M-g8iKoLC",
        "outputId": "346ba79b-d1ed-456c-eac1-0ddb0e834c1f"
      },
      "execution_count": null,
      "outputs": [
        {
          "output_type": "stream",
          "name": "stdout",
          "text": [
            "축하합니다. 시험에 합격하셨습니다.\n"
          ]
        }
      ]
    },
    {
      "cell_type": "code",
      "source": [],
      "metadata": {
        "id": "nhJnZHijMp8_"
      },
      "execution_count": null,
      "outputs": []
    }
  ]
}